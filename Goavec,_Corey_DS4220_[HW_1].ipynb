{
  "nbformat": 4,
  "nbformat_minor": 0,
  "metadata": {
    "colab": {
      "provenance": [],
      "authorship_tag": "ABX9TyOqAMi6wK4HJFG+rvZSp+RF",
      "include_colab_link": true
    },
    "kernelspec": {
      "name": "ir",
      "display_name": "R"
    },
    "language_info": {
      "name": "R"
    }
  },
  "cells": [
    {
      "cell_type": "markdown",
      "metadata": {
        "id": "view-in-github",
        "colab_type": "text"
      },
      "source": [
        "<a href=\"https://colab.research.google.com/github/coreygoavec/Collection-of-Works/blob/main/Goavec%2C_Corey_DS4220_%5BHW_1%5D.ipynb\" target=\"_parent\"><img src=\"https://colab.research.google.com/assets/colab-badge.svg\" alt=\"Open In Colab\"/></a>"
      ]
    },
    {
      "cell_type": "markdown",
      "source": [
        "Homework 1"
      ],
      "metadata": {
        "id": "CIKrMUpro4gu"
      }
    },
    {
      "cell_type": "code",
      "source": [],
      "metadata": {
        "id": "2ohVtwZMo4-x"
      },
      "execution_count": null,
      "outputs": []
    },
    {
      "cell_type": "markdown",
      "source": [
        "QUESTION 1"
      ],
      "metadata": {
        "id": "qM75MO-H8qNv"
      }
    },
    {
      "cell_type": "code",
      "execution_count": null,
      "metadata": {
        "colab": {
          "base_uri": "https://localhost:8080/"
        },
        "id": "w79sXQzKo091",
        "outputId": "acbab419-7986-4c98-c7ab-55adf2b0e9d3"
      },
      "outputs": [
        {
          "output_type": "stream",
          "name": "stdout",
          "text": [
            "The arithmetic mean of Electricity is: 88.84722"
          ]
        }
      ],
      "source": [
        "# Load the Electric_Production excel file\n",
        "# Install the packacges 'readxl' and 'vtable'.\n",
        "# install.packages(c('readxl', 'vtable'))\n",
        "library('readxl')\n",
        "library('vtable')\n",
        "\n",
        "# Reading in the data from Electric_Production\n",
        "ele_data <- read.csv('/content/sample_data/Electric_Production.csv')\n",
        "# head(ele_data)\n",
        "\n",
        "# 1. Computing arithmetic mean of the \"Electricity\" variable\n",
        "# Create a variable to hold the computed mean from the \"Electricity\" variable\n",
        "electricity_mean <- mean(ele_data$Electricity)\n",
        "cat(\"The arithmetic mean of Electricity is:\", electricity_mean)"
      ]
    },
    {
      "cell_type": "markdown",
      "source": [
        "QUESTION 2"
      ],
      "metadata": {
        "id": "bQfqajxB8uF4"
      }
    },
    {
      "cell_type": "code",
      "source": [
        "# 2. Computing the midrange of the Electricty variable.\n",
        "# First find the max and min of Electricity\n",
        "max_electricity <- max(ele_data$Electricity)\n",
        "min_electricity <- min(ele_data$Electricity)\n",
        "\n",
        "# Calculating the midrange\n",
        "electricity_midrange <- (max_electricity + min_electricity) / 2\n",
        "cat(\"The midrange of Electricty is:\", electricity_midrange)\n",
        "\n",
        "cat(\"\\n\\nThe midrange isn't always a good measure as outliers can skew the data.\")"
      ],
      "metadata": {
        "colab": {
          "base_uri": "https://localhost:8080/"
        },
        "id": "2hpaGvF9sjV5",
        "outputId": "1397fb44-5dec-44ff-8a7d-56c283889b57"
      },
      "execution_count": null,
      "outputs": [
        {
          "output_type": "stream",
          "name": "stdout",
          "text": [
            "The midrange of Electricty is: 92.35995\n",
            "\n",
            "The midrange isn't always a good measure as outliers can skew the data."
          ]
        }
      ]
    },
    {
      "cell_type": "markdown",
      "source": [
        "QUESTION 3"
      ],
      "metadata": {
        "id": "n5N80PuY8xOx"
      }
    },
    {
      "cell_type": "code",
      "source": [
        "# Compute the geometric mean of the \"Electricity\" variable.\n",
        "geo_mean_ele <- prod(ele_data$Electricity)^(1/length(ele_data$Electricity))\n",
        "cat(\"The geographic mean of Electricity is:\", geo_mean_ele)"
      ],
      "metadata": {
        "colab": {
          "base_uri": "https://localhost:8080/"
        },
        "id": "M_CoYfx8spqJ",
        "outputId": "3b5a4bee-7191-4adf-cce3-95b816b8ee17"
      },
      "execution_count": null,
      "outputs": [
        {
          "output_type": "stream",
          "name": "stdout",
          "text": [
            "The geographic mean of Electricity is: Inf"
          ]
        }
      ]
    },
    {
      "cell_type": "markdown",
      "source": [
        "QUESTION 4"
      ],
      "metadata": {
        "id": "fwuttXyp81rT"
      }
    },
    {
      "cell_type": "code",
      "source": [
        "# Compute the harmonic mean of the \"Electricity\" variable.\n",
        "harmonic_mean_ele <- length(ele_data$Electricity)/sum(1/ele_data$Electricity)\n",
        "cat(\"The harmonic mean of Electricity is:\", harmonic_mean_ele)"
      ],
      "metadata": {
        "colab": {
          "base_uri": "https://localhost:8080/"
        },
        "id": "PErFOq80u6lV",
        "outputId": "9a5245b6-568f-421a-bdba-94fd4d329d2a"
      },
      "execution_count": null,
      "outputs": [
        {
          "output_type": "stream",
          "name": "stdout",
          "text": [
            "The harmonic mean of Electricity is: 86.04172"
          ]
        }
      ]
    },
    {
      "cell_type": "markdown",
      "source": [
        "QUESTION 5"
      ],
      "metadata": {
        "id": "98YyVj7I83ry"
      }
    },
    {
      "cell_type": "code",
      "source": [
        "# Compute the weighted average of the \"Electricity\" variable.\n",
        "# Setting the seed\n",
        "set.seed(23032)\n",
        "\n",
        "# Now assign a random number betwen 0.1 and 1.8 to each.\n",
        "weights <- runif(length(ele_data$Electricity), 0.1, 1.8)\n",
        "\n",
        "# Now compute the weighted average of Electricity\n",
        "weighted_avg_ele <- sum(weights * ele_data$Electricity) / sum(weights)\n",
        "cat(\"The weighted average of Electricity is:\", weighted_avg_ele)"
      ],
      "metadata": {
        "colab": {
          "base_uri": "https://localhost:8080/"
        },
        "id": "zB0NrUVhvtxJ",
        "outputId": "c2a08702-207c-4ae3-9c38-f4bc288f5718"
      },
      "execution_count": null,
      "outputs": [
        {
          "output_type": "stream",
          "name": "stdout",
          "text": [
            "The weighted average of Electricity is: 88.90729"
          ]
        }
      ]
    },
    {
      "cell_type": "markdown",
      "source": [
        "QUESTION 6"
      ],
      "metadata": {
        "id": "vbEJUKSP_mJH"
      }
    },
    {
      "cell_type": "code",
      "source": [
        "# Comparing all mean values.\n",
        "cat(\"The arithmetic mean of Electricity is:\", electricity_mean)\n",
        "cat(\"\\nThe midrange of Electricity is:,\", electricity_midrange)\n",
        "cat(\"\\nThe geographic mean of Electricity is:\", geo_mean_ele)\n",
        "cat(\"\\nThe harmonic mean of Electricity is:\", harmonic_mean_ele)\n",
        "cat(\"\\nThe weighted average of Electricity is:\", weighted_avg_ele)\n",
        "\n",
        "cat(\"\\n\\nThe harmonic mean is always the smallest mean measure.\")\n",
        "cat(\"\\nThe weighted average mean is the biggest mean measure.\")"
      ],
      "metadata": {
        "colab": {
          "base_uri": "https://localhost:8080/"
        },
        "id": "NoVQYrrD_lRB",
        "outputId": "267a4892-c632-434f-e43a-cbd4c9a6052c"
      },
      "execution_count": null,
      "outputs": [
        {
          "output_type": "stream",
          "name": "stdout",
          "text": [
            "The arithmetic mean of Electricity is: 88.84722\n",
            "The midrange of Electricity is:, 92.35995\n",
            "The geographic mean of Electricity is: Inf\n",
            "The harmonic mean of Electricity is: 86.04172\n",
            "The weighted average of Electricity is: 88.90729\n",
            "\n",
            "The harmonic mean is always the smallest mean measure.\n",
            "The weighted average mean is the biggest mean measure."
          ]
        }
      ]
    },
    {
      "cell_type": "markdown",
      "source": [
        "QUESTION 7"
      ],
      "metadata": {
        "id": "0pvkRviJBjNe"
      }
    },
    {
      "cell_type": "code",
      "source": [
        "# Compute the median and trimmed mean of the electricity variable. Trim 1%.\n",
        "# Median\n",
        "median_ele <- median(ele_data$Electricity)\n",
        "cat(\"The median of Electricity is:\", median_ele)\n",
        "\n",
        "# Trimmed mean\n",
        "trim_mean_ele <- mean(ele_data$Electricity, trim = 0.01)\n",
        "cat(\"\\nThe trimmed mean of Electricity is:\", trim_mean_ele)"
      ],
      "metadata": {
        "colab": {
          "base_uri": "https://localhost:8080/"
        },
        "id": "xk-7-KfwBmbo",
        "outputId": "6f13c720-cad8-45c0-d343-c730fcbcca0b"
      },
      "execution_count": null,
      "outputs": [
        {
          "output_type": "stream",
          "name": "stdout",
          "text": [
            "The median of Electricity is: 89.7795\n",
            "The trimmed mean of Electricity is: 88.82602"
          ]
        }
      ]
    },
    {
      "cell_type": "markdown",
      "source": [
        "QUESTION 8"
      ],
      "metadata": {
        "id": "cQKLNPluI0lA"
      }
    },
    {
      "cell_type": "code",
      "source": [
        "# Compute the winzorized mean with 2.5% for the bottom percentile and 97.5 for the upper percentile.\n",
        "# Begin by installing the package 'statar'.\n",
        "install.packages('statar')\n",
        "library('statar')\n",
        "\n",
        "# Compute winsorized mean by perfoming winsorization on the Electricity variable.\n",
        "winsor_ele <- winsorize(ele_data$Electricity, probs = c(0.025, 0.975), verbose = FALSE)\n",
        "winsor_mean_ele <- mean(winsor_ele)\n",
        "cat(\"The winsorized mean is:\", winsor_mean_ele)"
      ],
      "metadata": {
        "colab": {
          "base_uri": "https://localhost:8080/"
        },
        "id": "Ku30D-P5I2fU",
        "outputId": "f328d727-ebff-42ff-de00-b34c5dc04f26"
      },
      "execution_count": null,
      "outputs": [
        {
          "output_type": "stream",
          "name": "stderr",
          "text": [
            "Installing package into ‘/usr/local/lib/R/site-library’\n",
            "(as ‘lib’ is unspecified)\n",
            "\n"
          ]
        },
        {
          "output_type": "stream",
          "name": "stdout",
          "text": [
            "The winsorized mean is: 88.7991"
          ]
        }
      ]
    }
  ]
}