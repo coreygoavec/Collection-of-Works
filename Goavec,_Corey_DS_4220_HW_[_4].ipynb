{
  "nbformat": 4,
  "nbformat_minor": 0,
  "metadata": {
    "colab": {
      "provenance": [],
      "authorship_tag": "ABX9TyONKfBvlU484F3KmPXrbWfa",
      "include_colab_link": true
    },
    "kernelspec": {
      "name": "ir",
      "display_name": "R"
    },
    "language_info": {
      "name": "R"
    }
  },
  "cells": [
    {
      "cell_type": "markdown",
      "metadata": {
        "id": "view-in-github",
        "colab_type": "text"
      },
      "source": [
        "<a href=\"https://colab.research.google.com/github/coreygoavec/Collection-of-Works/blob/main/Goavec%2C_Corey_DS_4220_HW_%5B_4%5D.ipynb\" target=\"_parent\"><img src=\"https://colab.research.google.com/assets/colab-badge.svg\" alt=\"Open In Colab\"/></a>"
      ]
    },
    {
      "cell_type": "code",
      "execution_count": null,
      "metadata": {
        "id": "0L_HwRKKmuyw"
      },
      "outputs": [],
      "source": [
        "# Load in the data\n",
        "cancer_data <- read.csv(\"/content/sample_data/breast cancer.csv\")\n",
        "# head(cancer_data)"
      ]
    },
    {
      "cell_type": "markdown",
      "source": [
        "QUESTION 1"
      ],
      "metadata": {
        "id": "Zg4xcbBAYHjd"
      }
    },
    {
      "cell_type": "code",
      "source": [
        "# Building models to predict whether the tumor is malignant (\"M\") or benign (\"B\") using all the classification models.\n",
        "\n",
        "# Install packages\n",
        "# install.packages(c(\"MASS\", \"e1071\"))\n",
        "library(\"MASS\")\n",
        "library(\"e1071\")\n",
        "\n",
        "# Converting dependent variable, \"diagnosis\", to be a factor.\n",
        "cancer_data$diagnosis <- as.factor(cancer_data$diagnosis)\n",
        "\n",
        "# Converting dependent variable, \"diagnosis\", to be numeric.\n",
        "# cancer_data$diagnosis <- ifelse(cancer_data$diagnosis == \"M\", 1, 0)\n",
        "\n",
        "# Naive Bayes, Logistic Regression, and Linear Discriminant Analysis models\n",
        "nb_model <- naiveBayes(diagnosis ~., data = cancer_data, type = 'class')\n",
        "lr_model <- glm(diagnosis ~., data = cancer_data, family = 'binomial')\n",
        "lda_model <- lda(diagnosis ~., data = cancer_data)\n",
        "\n",
        "# # Getting predictions for the models\n",
        "\n",
        "# # NB model prediction\n",
        "nb_pred <- predict(nb_model, newdata = cancer_data, type = 'class')\n",
        "\n",
        "# # LR model prediction\n",
        "lr_pred <- predict(lr_model, type = 'response')\n",
        "\n",
        "# # LDA model prediction\n",
        "lda_pred <- predict(lda_model, newdata = cancer_data)\n",
        "\n",
        "# # Getting class labels for LR model\n",
        "lr_class <- ifelse(lr_pred > 0.5, \"M\", \"B\")\n",
        "\n",
        "# # Getting class labels for LDA model\n",
        "lda_prob <- as.data.frame(lda_pred$posterior)\n",
        "lda_prob$class <- ifelse(lda_prob$B > 0.5, \"M\", \"B\") #Gives us the class but data is now focused on Benign tumors"
      ],
      "metadata": {
        "id": "0sISL1-HYIio",
        "colab": {
          "base_uri": "https://localhost:8080/"
        },
        "outputId": "94282550-2c61-4d20-a33c-9f627c247ff0"
      },
      "execution_count": null,
      "outputs": [
        {
          "output_type": "stream",
          "name": "stderr",
          "text": [
            "Warning message:\n",
            "“glm.fit: algorithm did not converge”\n",
            "Warning message:\n",
            "“glm.fit: fitted probabilities numerically 0 or 1 occurred”\n"
          ]
        }
      ]
    },
    {
      "cell_type": "markdown",
      "source": [
        "QUESTION 2"
      ],
      "metadata": {
        "id": "zRYgN0L3ZvjW"
      }
    },
    {
      "cell_type": "code",
      "source": [
        "# Finding the probability that a tumor is benign or malignant.\n",
        "# Probabilities along with summary statistics\n",
        "\n",
        "# install.packages(\"caret\")\n",
        "library(\"caret\")\n",
        "\n",
        "# NB probablities\n",
        "nb_mod_prob <- naiveBayes(diagnosis ~ ., data = cancer_data, type = 'raw')\n",
        "nb_prob <- as.data.frame(predict(nb_mod_prob, newdata = cancer_data, type = 'raw'))\n",
        "summary(nb_prob)"
      ],
      "metadata": {
        "id": "MACCuXaXoGug",
        "colab": {
          "base_uri": "https://localhost:8080/",
          "height": 139
        },
        "outputId": "deed0c7d-9303-4282-d54d-d572f99a3af7"
      },
      "execution_count": null,
      "outputs": [
        {
          "output_type": "display_data",
          "data": {
            "text/plain": [
              "       B                M         \n",
              " Min.   :0.0000   Min.   :0.0000  \n",
              " 1st Qu.:0.0000   1st Qu.:0.0000  \n",
              " Median :1.0000   Median :0.0000  \n",
              " Mean   :0.6396   Mean   :0.3604  \n",
              " 3rd Qu.:1.0000   3rd Qu.:1.0000  \n",
              " Max.   :1.0000   Max.   :1.0000  "
            ]
          },
          "metadata": {}
        }
      ]
    },
    {
      "cell_type": "code",
      "source": [
        "# LDA probabilities\n",
        "summary(lda_prob$B)"
      ],
      "metadata": {
        "colab": {
          "base_uri": "https://localhost:8080/",
          "height": 52
        },
        "id": "y2oOug2TJv_f",
        "outputId": "1f2b475e-a805-4bf8-ee67-8882cb40d59a"
      },
      "execution_count": null,
      "outputs": [
        {
          "output_type": "display_data",
          "data": {
            "text/plain": [
              "    Min.  1st Qu.   Median     Mean  3rd Qu.     Max. \n",
              "0.000000 0.009607 0.994359 0.656730 0.999795 1.000000 "
            ]
          },
          "metadata": {}
        }
      ]
    },
    {
      "cell_type": "code",
      "source": [
        "# LR probabilites\n",
        "lr_prob <- 1/(1 + exp(-lr_pred))\n",
        "summary(lr_prob)"
      ],
      "metadata": {
        "colab": {
          "base_uri": "https://localhost:8080/",
          "height": 52
        },
        "id": "60ErixAEJx_v",
        "outputId": "707a5b3b-785d-4068-9d20-41492067e018"
      },
      "execution_count": null,
      "outputs": [
        {
          "output_type": "display_data",
          "data": {
            "text/plain": [
              "   Min. 1st Qu.  Median    Mean 3rd Qu.    Max. \n",
              " 0.5000  0.5000  0.5000  0.5861  0.7311  0.7311 "
            ]
          },
          "metadata": {}
        }
      ]
    },
    {
      "cell_type": "code",
      "source": [
        "# On average the probability that a tumor being Benign is 63.96% for Naive Bayes' model,\n",
        "# 65.67% for the LDA model, and 58.61% for the LR model.\n",
        "\n",
        "# A.\n",
        "# There is a difference in the two groups, and the probabilities\n",
        "# agree with one another that the chances of a tumor being Benign are higher than\n",
        "# a tumor being Malignant."
      ],
      "metadata": {
        "id": "dRUZx5-FKH8P"
      },
      "execution_count": null,
      "outputs": []
    },
    {
      "cell_type": "code",
      "source": [
        "# B.\n",
        "# Using a statistical test to conclude if there is difference.\n",
        "\n",
        "# install.packages(\"FSA\")\n",
        "# install.packages(\"nortest\")\n",
        "library(\"FSA\")\n",
        "library(\"nortest\")\n",
        "\n",
        "# AD test for tumors that are Benign(B) across each tumor.\n",
        "benign_test <- cancer_data[cancer_data$diagnosis == \"B\", ]\n",
        "ad.test(benign_test$id)\n",
        "\n",
        "# AS test for tumors that are Malignant(M) across each tumor.\n",
        "malignant_test <- cancer_data[cancer_data$diagnosis == \"M\", ]\n",
        "ad.test(malignant_test$id)\n",
        "\n",
        "# Identify p-value, if less than 0.05, reject null hypothesis and accept alternative hypothesis, being\n",
        "# the data does not follow a normal distribution.\n",
        "\n",
        "# P-values from the AD tests indicate we have p-values below 0.05 and should therefore accept the alternative hypothesis\n",
        "\n",
        "# Since normality can not be assumed here, perform a KW test to see if the three models are significant.\n",
        "# Conducting KW test\n",
        "kruskal.test(diagnosis ~ id, data = cancer_data)"
      ],
      "metadata": {
        "colab": {
          "base_uri": "https://localhost:8080/",
          "height": 277
        },
        "id": "rSdFi7UDkrF3",
        "outputId": "e93beec9-f6aa-41f7-b525-5b5153dcff71"
      },
      "execution_count": null,
      "outputs": [
        {
          "output_type": "display_data",
          "data": {
            "text/plain": [
              "\n",
              "\tAnderson-Darling normality test\n",
              "\n",
              "data:  benign_test$id\n",
              "A = 102.32, p-value < 2.2e-16\n"
            ]
          },
          "metadata": {}
        },
        {
          "output_type": "display_data",
          "data": {
            "text/plain": [
              "\n",
              "\tAnderson-Darling normality test\n",
              "\n",
              "data:  malignant_test$id\n",
              "A = 57.024, p-value < 2.2e-16\n"
            ]
          },
          "metadata": {}
        },
        {
          "output_type": "display_data",
          "data": {
            "text/plain": [
              "\n",
              "\tKruskal-Wallis rank sum test\n",
              "\n",
              "data:  diagnosis by id\n",
              "Kruskal-Wallis chi-squared = 568, df = 568, p-value = 0.4921\n"
            ]
          },
          "metadata": {}
        }
      ]
    },
    {
      "cell_type": "code",
      "source": [
        "# From the KW test we get a p-value of 0.4921 which is not statistically significant, meaning there is not enough\n",
        "# evidence to reject the null hypothesis and instead accept it, meaning that the means of the three models\n",
        "# are similar to one another."
      ],
      "metadata": {
        "id": "mCTXP8f-puCc"
      },
      "execution_count": null,
      "outputs": []
    },
    {
      "cell_type": "markdown",
      "source": [
        "QUESTION 3"
      ],
      "metadata": {
        "id": "Ebk54ttfnKJX"
      }
    },
    {
      "cell_type": "code",
      "source": [
        "# Picking two numeric variables and interpreting their coefficients.\n",
        "# LR model coefficients\n",
        "print(lr_model)"
      ],
      "metadata": {
        "id": "FdaftAP1nLrT",
        "colab": {
          "base_uri": "https://localhost:8080/"
        },
        "outputId": "feb8e669-19be-4559-bb07-74f915683445"
      },
      "execution_count": null,
      "outputs": [
        {
          "output_type": "stream",
          "name": "stdout",
          "text": [
            "\n",
            "Call:  glm(formula = diagnosis ~ ., family = \"binomial\", data = cancer_data)\n",
            "\n",
            "Coefficients:\n",
            "            (Intercept)                       id              radius_mean  \n",
            "              9.535e+01               -8.422e-07               -1.856e+03  \n",
            "           texture_mean           perimeter_mean                area_mean  \n",
            "              2.613e+01               -5.121e+00                1.850e+01  \n",
            "        smoothness_mean         compactness_mean           concavity_mean  \n",
            "              2.267e+04               -1.781e+04                7.035e+03  \n",
            "    concave.points_mean            symmetry_mean   fractal_dimension_mean  \n",
            "              1.449e+04               -7.373e+03                1.617e+04  \n",
            "              radius_se               texture_se             perimeter_se  \n",
            "             -7.733e+02               -2.418e+02               -3.304e+02  \n",
            "                area_se            smoothness_se           compactness_se  \n",
            "              5.952e+01                2.557e+03                3.204e+04  \n",
            "           concavity_se        concave.points_se              symmetry_se  \n",
            "             -2.622e+04                1.172e+05               -4.643e+04  \n",
            "   fractal_dimension_se             radius_worst            texture_worst  \n",
            "             -2.970e+05                6.686e+02                4.243e+01  \n",
            "        perimeter_worst               area_worst         smoothness_worst  \n",
            "              2.928e+01               -6.344e+00               -9.069e+03  \n",
            "      compactness_worst          concavity_worst     concave.points_worst  \n",
            "             -2.681e+03                3.069e+03                8.614e+01  \n",
            "         symmetry_worst  fractal_dimension_worst  \n",
            "              8.085e+03                2.637e+04  \n",
            "\n",
            "Degrees of Freedom: 568 Total (i.e. Null);  537 Residual\n",
            "Null Deviance:\t    751.4 \n",
            "Residual Deviance: 1.585e-05 \tAIC: 64\n"
          ]
        }
      ]
    },
    {
      "cell_type": "code",
      "source": [
        "# Interpreting numeric variable 'perimeter_mean'\n",
        "perimeter_mean <- (-5.121e+00)\n",
        "print(perimeter_mean)\n",
        "\n",
        "# Getting the odds for 'perimeter_mean'\n",
        "print(exp(perimeter_mean))\n",
        "\n",
        "# The odds that a tumors perimeter mean gets larger, increases by a factor of 1.00597005 for each tumor measured."
      ],
      "metadata": {
        "colab": {
          "base_uri": "https://localhost:8080/"
        },
        "id": "8jf5YJcZcEBP",
        "outputId": "3282c44a-9b37-479d-809b-0d2ceaa70827"
      },
      "execution_count": null,
      "outputs": [
        {
          "output_type": "stream",
          "name": "stdout",
          "text": [
            "[1] -5.121\n",
            "[1] 0.00597005\n"
          ]
        }
      ]
    },
    {
      "cell_type": "code",
      "source": [
        "# Interpreting numeric variable 'area_mean'\n",
        "area_mean <- (-1.850e+01)\n",
        "print(area_mean)\n",
        "\n",
        "# Getting the odds for 'radius_mean'\n",
        "print(exp(area_mean))\n",
        "\n",
        "# The odds of a tumors area mean gets larger, increases by a factor of 1.00000000923745 for each tumor measured."
      ],
      "metadata": {
        "colab": {
          "base_uri": "https://localhost:8080/"
        },
        "id": "lyhW72gseQgu",
        "outputId": "44218729-c637-45fc-be12-19e362bcf9f2"
      },
      "execution_count": null,
      "outputs": [
        {
          "output_type": "stream",
          "name": "stdout",
          "text": [
            "[1] -18.5\n",
            "[1] 9.23745e-09\n"
          ]
        }
      ]
    }
  ]
}